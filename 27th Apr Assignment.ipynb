{
 "cells": [
  {
   "cell_type": "markdown",
   "id": "9eed0aa6-92e2-4bfd-a4ba-d87897cbaaf8",
   "metadata": {},
   "source": [
    "## 27th April Assignment"
   ]
  },
  {
   "cell_type": "code",
   "execution_count": null,
   "id": "8002a272-1d85-4dd5-b34e-84f861b095b3",
   "metadata": {},
   "outputs": [],
   "source": []
  },
  {
   "cell_type": "markdown",
   "id": "a4019db8-9752-4c76-be14-ac9876e65838",
   "metadata": {},
   "source": [
    "## Q1. What are the different types of clustering algorithms, and how do they differ in terms of their approach and underlying assumptions?"
   ]
  },
  {
   "cell_type": "markdown",
   "id": "1f1fc6a9-0115-4a41-8d92-24d3bf0877d3",
   "metadata": {},
   "source": [
    "Clustering algorithm aims to group similar datapoints into cluster.\n",
    "\n",
    "These are several types of Clustering Algorithms :\n",
    "\n",
    "1. Partitioning Algorithm\n",
    "\n",
    "K-Means - Assigne each datapooint to the k cluster according to mean value.\n",
    "\n",
    "2. Hierarichal Algorithm\n",
    "\n",
    "Agglomerative Clustering - It considers each point as cluster and starts creating new cluster based on distance until at last only one cluster remains.\n",
    "\n",
    "Divisive - It takes hole data as cluster and creates sub-cluster of them.\n",
    "\n",
    "3. Density Based Algorithm\n",
    "\n",
    "DBSCAN - Forms clusters based on dense region of datapoints.\n",
    "\n",
    "OPTICS - Similar as DBSCAN but provide more flexible desity based clustering approach."
   ]
  },
  {
   "cell_type": "code",
   "execution_count": null,
   "id": "383d06cd-556c-400f-a77f-ee72907ee21b",
   "metadata": {},
   "outputs": [],
   "source": []
  },
  {
   "cell_type": "markdown",
   "id": "57ef0769-d0d9-4a3b-8c37-4675c3b57cfe",
   "metadata": {},
   "source": [
    "## Q2.What is K-means clustering, and how does it work?"
   ]
  },
  {
   "cell_type": "markdown",
   "id": "e1f2d3ea-8812-40a4-bf92-6ac4e3403a51",
   "metadata": {},
   "source": [
    "K-Means is a type of partioning algorithm.\n",
    "\n",
    "It is a technique to create clusters based on centroids.\n",
    "\n",
    "* How Does It Works?\n",
    "\n",
    "To create the best K-Means clustering we will assign centroids as possible as far.\n",
    "\n",
    "After that we will create orthogonal line that passes through centroids.\n",
    "\n",
    "We will creat group of datapoint that are near to centroids and calculate the mean of that groups.\n",
    "\n",
    "After calculating the means centroids will change their possition where number of datapoints are more.\n",
    "\n",
    "We will repeat this process until centroid comes at the center of group of data."
   ]
  },
  {
   "cell_type": "code",
   "execution_count": null,
   "id": "5963d01e-1b6c-40b9-881c-e45136a228f5",
   "metadata": {},
   "outputs": [],
   "source": []
  },
  {
   "cell_type": "markdown",
   "id": "b7a4c7ad-fb20-4e7a-8467-484a63f20fa5",
   "metadata": {},
   "source": [
    "## Q3. What are some advantages and limitations of K-means clustering compared to other clustering techniques?"
   ]
  },
  {
   "cell_type": "markdown",
   "id": "df7feae2-16db-409c-b2c7-169439b9cec7",
   "metadata": {},
   "source": [
    "* Advantages\n",
    "\n",
    "It is very simple to understand.\n",
    "\n",
    "The algorithm is scalable to a large number of clusters, making it suitable for scenarios where the number of clusters is not known beforehand.\n",
    "\n",
    "K-Means tends to work well when clusters are roughly balanced in size and have similar variance.\n",
    "\n",
    "* Disadvantages\n",
    "\n",
    "K-Means clustering assumes that clusters are shperical and equally sized.Because of this it may struggle at different shape and size of clusters.\n",
    "\n",
    "It assums that all clusters have same variance.If variance are different so K-Means will not perform well.\n",
    "\n",
    "K-Means is sensitive to outliers.\n",
    "\n",
    "It is not suitable for categorical data."
   ]
  },
  {
   "cell_type": "code",
   "execution_count": null,
   "id": "cf853be3-3959-43c0-9f07-7ebc3ae4def1",
   "metadata": {},
   "outputs": [],
   "source": []
  },
  {
   "cell_type": "markdown",
   "id": "9fe50a47-f30e-474f-8650-435ea32f494e",
   "metadata": {},
   "source": [
    "## Q4. How do you determine the optimal number of clusters in K-means clustering, and what are some common methods for doing so?"
   ]
  },
  {
   "cell_type": "markdown",
   "id": "817e17ff-3458-401a-8e94-4ea6642fff8b",
   "metadata": {},
   "source": [
    "1. Elbow Method\n",
    "\n",
    "2. Silhouette Score\n",
    "\n",
    "3. Cross Validation"
   ]
  },
  {
   "cell_type": "code",
   "execution_count": null,
   "id": "8e3c736d-4c28-4335-b875-eb073bbec3e4",
   "metadata": {},
   "outputs": [],
   "source": []
  },
  {
   "cell_type": "markdown",
   "id": "ec90dd44-74ca-462b-b650-754596f689a0",
   "metadata": {},
   "source": [
    "## Q5. What are some applications of K-means clustering in real-world scenarios, and how has it been used to solve specific problems?"
   ]
  },
  {
   "cell_type": "markdown",
   "id": "adb0b7dc-971a-4deb-8ef0-0518774fcbf3",
   "metadata": {},
   "source": [
    "Customer Segmentation - We can use K-Means to segment customeres based on their purchasing.\n",
    "\n",
    "Image Copression - We can use K-Means for image copression by creating cluster of similar colors and using the cluster centroids,image size can be significantly reduce without loss in quality.\n",
    "\n",
    "Network Security - K-Means can help identify unusual pattern in network traffic.\n",
    "\n",
    "HealthCare - K-Means clustering is applied to patient data for disease subtyping, identifying groups with similar medical histories or response to treatment."
   ]
  },
  {
   "cell_type": "code",
   "execution_count": null,
   "id": "c013ac0e-4f99-483a-811e-5ba3a61feb0e",
   "metadata": {},
   "outputs": [],
   "source": []
  },
  {
   "cell_type": "markdown",
   "id": "8f7c1c8c-6d03-450c-b7af-756bdc455811",
   "metadata": {},
   "source": [
    "## Q6. How do you interpret the output of a K-means clustering algorithm, and what insights can you derive from the resulting clusters?"
   ]
  },
  {
   "cell_type": "markdown",
   "id": "6d252435-75da-41aa-a53b-2f2560ca7d99",
   "metadata": {},
   "source": [
    "1. Centroids\n",
    "\n",
    "The cordinates of centroids provide average location of datapoints present in cluster.Examining this values provide characteristics of cluster in feature space.\n",
    "\n",
    "2. Cluster Sizes\n",
    "\n",
    "Number of datapoints present in clusters defines the size of cluster.Unequal size may suggest imbalance and variation in the data.\n",
    "\n",
    "3. WCSS - Within Cluster Sum of Square\n",
    "\n",
    "It defines the distance between cetroids and each data point.It will calculate the distance for different number of centroids.\n",
    "\n",
    "Monitoring the different number of cetroid value can help to get optimal value of clusters.\n",
    "\n",
    "4. Comparision Across Clusters\n",
    "\n",
    "Comparing cluster with each other can reveal patterns or differences."
   ]
  },
  {
   "cell_type": "code",
   "execution_count": null,
   "id": "4d480971-9da6-4aae-b557-c04dc5b2df41",
   "metadata": {},
   "outputs": [],
   "source": []
  },
  {
   "cell_type": "markdown",
   "id": "55695c8c-5e69-44ec-9b8d-0a480ead83dd",
   "metadata": {},
   "source": [
    "## Q7. What are some common challenges in implementing K-means clustering, and how can you addressthem?"
   ]
  },
  {
   "cell_type": "markdown",
   "id": "9d47c0a7-95d6-45e0-b5dd-02db64853c53",
   "metadata": {},
   "source": [
    "1. Number of Clusters\n",
    "\n",
    "Choosing the value of k can impact on the quality of cluster.\n",
    "\n",
    "We can use elbow method or silhouette score to get optimal k value.\n",
    "\n",
    "2. Outliers\n",
    "\n",
    "It is sensitive to outliers.\n",
    "\n",
    "Either we can fix outliers or we can use K-Medoids.\n",
    "\n",
    "3. Assuming Spherical Cluster\n",
    "\n",
    "K-Means assums that clusters are spherical and of equal size,that is not possible in real world senario.\n",
    "\n",
    "If clusters have different shape,so we can use algorithms that are perticularly designed for that type of shape.\n",
    "\n",
    "4. Unscaled Data\n",
    "\n",
    "Different scale of data can affect the cluster.\n",
    "\n",
    "We can use standardization or min-max scaling for scale the data."
   ]
  },
  {
   "cell_type": "code",
   "execution_count": null,
   "id": "68990cd6-ab57-4004-a1e9-46456f28e2bf",
   "metadata": {},
   "outputs": [],
   "source": []
  }
 ],
 "metadata": {
  "kernelspec": {
   "display_name": "Python 3 (ipykernel)",
   "language": "python",
   "name": "python3"
  },
  "language_info": {
   "codemirror_mode": {
    "name": "ipython",
    "version": 3
   },
   "file_extension": ".py",
   "mimetype": "text/x-python",
   "name": "python",
   "nbconvert_exporter": "python",
   "pygments_lexer": "ipython3",
   "version": "3.10.8"
  }
 },
 "nbformat": 4,
 "nbformat_minor": 5
}
